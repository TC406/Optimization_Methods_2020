{
 "cells": [
  {
   "cell_type": "code",
   "execution_count": 1,
   "metadata": {
    "collapsed": true,
    "pycharm": {
     "is_executing": false
    }
   },
   "outputs": [],
   "source": [
    "import  numpy as np\n",
    "import pandas as pd\n",
    "import matplotlib.pyplot as plt\n",
    "from numpy import asfarray\n"
   ]
  },
  {
   "cell_type": "markdown",
   "source": [
    "Implement Nelder-Mead method for the Mishra’s Bird function\n",
    "\n",
    "$$ f(x, y) = \\sin(y)e^{1−cos(x)} + cos(x)e^{1−sin(y)} + (x − y)^2 $$\n",
    "\n",
    "1. To illustrate the behavior of the methods plot simplex (triangle) for every iteration. Provide\n",
    "the link to code repository.\n",
    "2. Demonstrate that the algorithm may converge to \n",
    "different points depending on the starting\n",
    "point. Report explicitly two distinct starting \n",
    "points x0 and the corresponding $x^∗$\n",
    "3. Examine the behavior of the method for various \n",
    "parameters α, β and γ. For one chosen $x_0$\n",
    "show that the method may converge to different points.\n",
    " Report parameter values and x∗. "
   ],
   "metadata": {
    "collapsed": false
   }
  },
  {
   "cell_type": "code",
   "execution_count": 6,
   "outputs": [],
   "source": [
    "def mishra_bird(x):\n",
    "    \"\"\"\n",
    "    Compute values for Mishra bird function\n",
    "    Args:\n",
    "        x: 2d ndarray or list\n",
    "\n",
    "    Returns:\n",
    "        Float\n",
    "    \"\"\"\n",
    "    if bound_function(x):\n",
    "        mult_term = 1\n",
    "    else:\n",
    "        mult_term=10\n",
    "    return (np.sin(x[1])*np.exp(1 - np.cos(x[0])) \n",
    "            + np.cos(x[0]) * np.exp(1 - np.sin(x[1])) \n",
    "            + (x[0] - x[1])**2) * mult_term\n",
    "\n",
    "\n",
    "def bound_function(x):\n",
    "    \"\"\"\n",
    "    Computes if bound condition satisfied.\n",
    "    Args:\n",
    "        x: 2d ndarray or list\n",
    "\n",
    "    Returns:\n",
    "        True if bound condition satisfied\n",
    "        False if point is outside bound condition\n",
    "    \"\"\"\n",
    "    if (x[0] + 5)**2 + (x[1] + 5)**2 < 25:\n",
    "        return True\n",
    "    else:\n",
    "        return False"
   ],
   "metadata": {
    "collapsed": false,
    "pycharm": {
     "name": "#%%\n",
     "is_executing": false
    }
   }
  },
  {
   "cell_type": "code",
   "execution_count": 5,
   "outputs": [],
   "source": [
    "def wrap_function(function, args):\n",
    "    ncalls = [0]\n",
    "    if function is None:\n",
    "        return ncalls, None\n",
    "\n",
    "def _minimize_neldermead(func, x0, args=(), callback=None,\n",
    "                         maxiter=400,\n",
    "                         xatol=1e-4, fatol=1e-4):\n",
    "    \n",
    "\n",
    "    fcalls, func = wrap_function(func, args)\n",
    "    alpha = 1\n",
    "    chi = 2\n",
    "    gamma = 0.5\n",
    "    beta = 0.5\n",
    "    sigma = 0.5\n",
    "\n",
    "    nonzdelt = 0.05\n",
    "    zdelt = 0.00025\n",
    "\n",
    "    x0 = asfarray(x0).flatten()\n",
    "    \n",
    "    # Create simplex\n",
    "    N = len(x0)\n",
    "\n",
    "    sim = np.zeros((N + 1, N), dtype=x0.dtype)\n",
    "    sim[0] = x0\n",
    "    # Generating simplex points\n",
    "    # Generate them outside?\n",
    "    for k in range(N):\n",
    "        y = np.array(x0, copy=True)\n",
    "        if y[k] != 0:\n",
    "            y[k] = (1 + nonzdelt)*y[k]\n",
    "        else:\n",
    "            y[k] = zdelt\n",
    "        sim[k + 1] = y\n",
    "\n",
    "    allvecs = [sim[0]]\n",
    "\n",
    "    one2np1 = list(range(1, N + 1))\n",
    "    fsim = np.zeros((N + 1,), float)\n",
    "\n",
    "    for k in range(N + 1):\n",
    "        fsim[k] = func(sim[k])\n",
    "\n",
    "    ind = np.argsort(fsim)\n",
    "    fsim = np.take(fsim, ind, 0)\n",
    "    # sort so sim[0,:] has the lowest function value\n",
    "    sim = np.take(sim, ind, 0)\n",
    "\n",
    "    iterations = 1\n",
    "\n",
    "    while (iterations < maxiter):\n",
    "        # If distance between coordinates less than xatol\n",
    "        # and difference between function values is less than fatol\n",
    "        if (np.max(np.ravel(np.abs(sim[1:] - sim[0]))) <= xatol and\n",
    "                np.max(np.abs(fsim[0] - fsim[1:])) <= fatol):\n",
    "            break\n",
    "        # xbar - center of gravity without worst point\n",
    "        x_c = np.add.reduce(sim[:-1], 0) / N\n",
    "        # xr - Reflection. \n",
    "        # sim[-1] - highest value\n",
    "        x_r = x_c - alpha * (x_c - sim[-1])\n",
    "        fxr = func(x_r)\n",
    "        doshrink = 0\n",
    "        # If new point xr is better than lowest value\n",
    "        if fxr < fsim[0]:\n",
    "            # Expansion case 4a\n",
    "            #x_e = (1 + alpha * chi) * x_c - alpha * chi * sim[-1]\n",
    "            x_e = x_c + gamma * (x_r - x_c)\n",
    "            fxe = func(x_e)\n",
    "\n",
    "            if fxe < fxr:\n",
    "                sim[-1] = x_e\n",
    "                fsim[-1] = fxe\n",
    "            else:\n",
    "                sim[-1] = x_r\n",
    "                fsim[-1] = fxr\n",
    "        else:  # fsim[0] <= fxr 4b\n",
    "            if fxr < fsim[-2]:\n",
    "                sim[-1] = x_r\n",
    "                fsim[-1] = fxr\n",
    "            else:  # fxr >= fsim[-2] 4c\n",
    "                # Perform contraction\n",
    "                if fxr < fsim[-1]:\n",
    "                    x_s =  x_c + beta * (sim[-1] - x_c)\n",
    "                    fxs = func(x_s)\n",
    "\n",
    "                    if fxs <= fxr:\n",
    "                        sim[-1] = x_s\n",
    "                        fsim[-1] = fxs\n",
    "                    else:\n",
    "                        doshrink = 1\n",
    "                else: # 4d\n",
    "                    # Perform an inside contraction\n",
    "                    x_ss = x_c + beta * (sim[-1] - x_c)\n",
    "                    fxss = func(x_ss)\n",
    "\n",
    "                    if fxss < fsim[-1]: # 6\n",
    "                        sim[-1] = x_ss\n",
    "                        fsim[-1] = fxss\n",
    "                    else:\n",
    "                        doshrink = 1\n",
    "\n",
    "                if doshrink: # 5\n",
    "                    for j in one2np1:\n",
    "                        sim[j] = sim[0] + sigma * (sim[j] - sim[0])\n",
    "                        fsim[j] = func(sim[j])\n",
    "\n",
    "        ind = np.argsort(fsim)\n",
    "        sim = np.take(sim, ind, 0)\n",
    "        fsim = np.take(fsim, ind, 0)\n",
    "        iterations += 1\n",
    "        allvecs.append(sim[0])\n",
    "\n",
    "    x = sim[0]\n",
    "    fval = np.min(fsim)\n",
    "    warnflag = 0\n",
    "\n",
    "    \n",
    "\n",
    "    # result = OptimizeResult(fun=fval, nit=iterations, nfev=fcalls[0],\n",
    "    #                         status=warnflag, success=(warnflag == 0),\n",
    "    #                         x=x, final_simplex=(sim, fsim))\n",
    "    # if retall:\n",
    "    #     result['allvecs'] = allvecs\n",
    "    # return result\n",
    "    return x, allvecs"
   ],
   "metadata": {
    "collapsed": false,
    "pycharm": {
     "name": "#%%\n",
     "is_executing": false
    }
   }
  },
  {
   "cell_type": "code",
   "execution_count": null,
   "outputs": [],
   "source": [],
   "metadata": {
    "collapsed": false,
    "pycharm": {
     "name": "#%%\n"
    }
   }
  }
 ],
 "metadata": {
  "kernelspec": {
   "display_name": "Python 3",
   "language": "python",
   "name": "python3"
  },
  "language_info": {
   "codemirror_mode": {
    "name": "ipython",
    "version": 2
   },
   "file_extension": ".py",
   "mimetype": "text/x-python",
   "name": "python",
   "nbconvert_exporter": "python",
   "pygments_lexer": "ipython2",
   "version": "2.7.6"
  },
  "pycharm": {
   "stem_cell": {
    "cell_type": "raw",
    "source": [],
    "metadata": {
     "collapsed": false
    }
   }
  }
 },
 "nbformat": 4,
 "nbformat_minor": 0
}